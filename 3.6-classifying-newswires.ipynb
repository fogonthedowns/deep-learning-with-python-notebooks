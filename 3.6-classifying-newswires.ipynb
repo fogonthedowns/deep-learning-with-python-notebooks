{
 "cells": [
  {
   "cell_type": "code",
   "execution_count": 20,
   "metadata": {},
   "outputs": [],
   "source": [
    "import tensorflow as tf\n",
    "from tensorflow import keras\n"
   ]
  },
  {
   "cell_type": "markdown",
   "metadata": {},
   "source": [
    "# Classifying newswires: a multi-class classification example\n",
    "\n",
    "This notebook contains the code samples found in Chapter 3, Section 5 of [Deep Learning with Python](https://www.manning.com/books/deep-learning-with-python?a_aid=keras&a_bid=76564dff). Note that the original text features far more content, in particular further explanations and figures: in this notebook, you will only find source code and related comments.\n",
    "\n",
    "----\n",
    "\n",
    "In the previous section we saw how to classify vector inputs into two mutually exclusive classes using a densely-connected neural network. \n",
    "But what happens when you have more than two classes? \n",
    "\n",
    "In this section, we will build a network to classify Reuters newswires into 46 different mutually-exclusive topics. Since we have many \n",
    "classes, this problem is an instance of \"multi-class classification\", and since each data point should be classified into only one \n",
    "category, the problem is more specifically an instance of \"single-label, multi-class classification\". If each data point could have \n",
    "belonged to multiple categories (in our case, topics) then we would be facing a \"multi-label, multi-class classification\" problem."
   ]
  },
  {
   "cell_type": "markdown",
   "metadata": {},
   "source": [
    "## The Reuters dataset\n",
    "\n",
    "\n",
    "We will be working with the _Reuters dataset_, a set of short newswires and their topics, published by Reuters in 1986. It's a very simple, \n",
    "widely used toy dataset for text classification. There are 46 different topics; some topics are more represented than others, but each \n",
    "topic has at least 10 examples in the training set.\n",
    "\n",
    "Like IMDB and MNIST, the Reuters dataset comes packaged as part of Keras. Let's take a look right away:"
   ]
  },
  {
   "cell_type": "code",
   "execution_count": 21,
   "metadata": {},
   "outputs": [],
   "source": [
    "reuters = keras.datasets.reuters\n",
    "(train_data, train_labels), (test_data, test_labels) = reuters.load_data(num_words=10000)"
   ]
  },
  {
   "cell_type": "markdown",
   "metadata": {},
   "source": [
    "\n",
    "Like with the IMDB dataset, the argument `num_words=10000` restricts the data to the 10,000 most frequently occurring words found in the \n",
    "data.\n",
    "\n",
    "We have 8,982 training examples and 2,246 test examples:"
   ]
  },
  {
   "cell_type": "code",
   "execution_count": 22,
   "metadata": {},
   "outputs": [
    {
     "data": {
      "text/plain": [
       "8982"
      ]
     },
     "execution_count": 22,
     "metadata": {},
     "output_type": "execute_result"
    }
   ],
   "source": [
    "len(train_data)"
   ]
  },
  {
   "cell_type": "code",
   "execution_count": 23,
   "metadata": {},
   "outputs": [
    {
     "data": {
      "text/plain": [
       "11228"
      ]
     },
     "execution_count": 23,
     "metadata": {},
     "output_type": "execute_result"
    }
   ],
   "source": [
    "len(test_data) + len(train_data)"
   ]
  },
  {
   "cell_type": "markdown",
   "metadata": {},
   "source": [
    "As with the IMDB reviews, each example is a list of integers (word indices):"
   ]
  },
  {
   "cell_type": "code",
   "execution_count": 24,
   "metadata": {},
   "outputs": [
    {
     "data": {
      "text/plain": [
       "[1,\n",
       " 248,\n",
       " 409,\n",
       " 166,\n",
       " 1461,\n",
       " 1284,\n",
       " 3906,\n",
       " 8,\n",
       " 4,\n",
       " 495,\n",
       " 298,\n",
       " 114,\n",
       " 30,\n",
       " 3704,\n",
       " 27,\n",
       " 7239,\n",
       " 3550,\n",
       " 5,\n",
       " 231,\n",
       " 469,\n",
       " 641,\n",
       " 201,\n",
       " 1085,\n",
       " 7,\n",
       " 714,\n",
       " 849,\n",
       " 495,\n",
       " 703,\n",
       " 573,\n",
       " 1259,\n",
       " 9,\n",
       " 221,\n",
       " 7,\n",
       " 10,\n",
       " 1670,\n",
       " 1131,\n",
       " 13,\n",
       " 899,\n",
       " 7,\n",
       " 73,\n",
       " 418,\n",
       " 6,\n",
       " 4,\n",
       " 60,\n",
       " 9,\n",
       " 231,\n",
       " 5127,\n",
       " 491,\n",
       " 3906,\n",
       " 8,\n",
       " 268,\n",
       " 902,\n",
       " 24,\n",
       " 333,\n",
       " 6642,\n",
       " 1401,\n",
       " 2,\n",
       " 9,\n",
       " 542,\n",
       " 1275,\n",
       " 23,\n",
       " 4,\n",
       " 811,\n",
       " 6,\n",
       " 3421,\n",
       " 4,\n",
       " 234,\n",
       " 495,\n",
       " 298,\n",
       " 36,\n",
       " 8,\n",
       " 36,\n",
       " 2133,\n",
       " 4,\n",
       " 2209,\n",
       " 5,\n",
       " 231,\n",
       " 469,\n",
       " 641,\n",
       " 201,\n",
       " 9149,\n",
       " 27,\n",
       " 4,\n",
       " 491,\n",
       " 5,\n",
       " 60,\n",
       " 641,\n",
       " 201,\n",
       " 7,\n",
       " 50,\n",
       " 4504,\n",
       " 5,\n",
       " 1458,\n",
       " 60,\n",
       " 7582,\n",
       " 703,\n",
       " 205,\n",
       " 221,\n",
       " 9,\n",
       " 573,\n",
       " 1259,\n",
       " 1478,\n",
       " 41,\n",
       " 30,\n",
       " 6484,\n",
       " 21,\n",
       " 2,\n",
       " 1275,\n",
       " 1705,\n",
       " 41,\n",
       " 30,\n",
       " 1954,\n",
       " 21,\n",
       " 4,\n",
       " 2014,\n",
       " 5,\n",
       " 291,\n",
       " 27,\n",
       " 4,\n",
       " 60,\n",
       " 6,\n",
       " 4,\n",
       " 1709,\n",
       " 1698,\n",
       " 9,\n",
       " 137,\n",
       " 1101,\n",
       " 41,\n",
       " 57,\n",
       " 6,\n",
       " 30,\n",
       " 21,\n",
       " 42,\n",
       " 3994,\n",
       " 6188,\n",
       " 503,\n",
       " 3906,\n",
       " 8,\n",
       " 578,\n",
       " 41,\n",
       " 30,\n",
       " 1055,\n",
       " 6,\n",
       " 1586,\n",
       " 2,\n",
       " 5,\n",
       " 4,\n",
       " 2435,\n",
       " 619,\n",
       " 636,\n",
       " 27,\n",
       " 269,\n",
       " 641,\n",
       " 201,\n",
       " 58,\n",
       " 1478,\n",
       " 3906,\n",
       " 8,\n",
       " 36,\n",
       " 41,\n",
       " 1521,\n",
       " 4,\n",
       " 641,\n",
       " 49,\n",
       " 6,\n",
       " 2868,\n",
       " 43,\n",
       " 10,\n",
       " 2,\n",
       " 5,\n",
       " 2,\n",
       " 6,\n",
       " 4,\n",
       " 60,\n",
       " 27,\n",
       " 532,\n",
       " 10,\n",
       " 1649,\n",
       " 6,\n",
       " 1070,\n",
       " 4,\n",
       " 797,\n",
       " 244,\n",
       " 7,\n",
       " 100,\n",
       " 5940,\n",
       " 4,\n",
       " 60,\n",
       " 41,\n",
       " 45,\n",
       " 30,\n",
       " 1261,\n",
       " 6,\n",
       " 3739,\n",
       " 43,\n",
       " 295,\n",
       " 43,\n",
       " 4,\n",
       " 641,\n",
       " 49,\n",
       " 40,\n",
       " 10,\n",
       " 1453,\n",
       " 39,\n",
       " 687,\n",
       " 3906,\n",
       " 75,\n",
       " 8,\n",
       " 577,\n",
       " 1986,\n",
       " 209,\n",
       " 30,\n",
       " 3975,\n",
       " 6,\n",
       " 595,\n",
       " 10,\n",
       " 231,\n",
       " 469,\n",
       " 641,\n",
       " 49,\n",
       " 931,\n",
       " 31,\n",
       " 4,\n",
       " 920,\n",
       " 24,\n",
       " 244,\n",
       " 41,\n",
       " 1245,\n",
       " 6,\n",
       " 4,\n",
       " 231,\n",
       " 3770,\n",
       " 107,\n",
       " 1055,\n",
       " 3906,\n",
       " 8,\n",
       " 4,\n",
       " 1791,\n",
       " 5,\n",
       " 405,\n",
       " 1508,\n",
       " 41,\n",
       " 30,\n",
       " 171,\n",
       " 24,\n",
       " 55,\n",
       " 28,\n",
       " 602,\n",
       " 43,\n",
       " 470,\n",
       " 43,\n",
       " 4,\n",
       " 3215,\n",
       " 641,\n",
       " 476,\n",
       " 7,\n",
       " 50,\n",
       " 1597,\n",
       " 695,\n",
       " 62,\n",
       " 7354,\n",
       " 184,\n",
       " 194,\n",
       " 3196,\n",
       " 6,\n",
       " 2,\n",
       " 4,\n",
       " 60,\n",
       " 34,\n",
       " 4820,\n",
       " 269,\n",
       " 6642,\n",
       " 41,\n",
       " 658,\n",
       " 1296,\n",
       " 6,\n",
       " 232,\n",
       " 9,\n",
       " 141,\n",
       " 231,\n",
       " 469,\n",
       " 6,\n",
       " 3215,\n",
       " 1942,\n",
       " 4,\n",
       " 214,\n",
       " 212,\n",
       " 3906,\n",
       " 8,\n",
       " 24,\n",
       " 41,\n",
       " 1536,\n",
       " 4,\n",
       " 1569,\n",
       " 433,\n",
       " 5,\n",
       " 4226,\n",
       " 171,\n",
       " 7,\n",
       " 4,\n",
       " 169,\n",
       " 231,\n",
       " 8868,\n",
       " 2,\n",
       " 41,\n",
       " 30,\n",
       " 6738,\n",
       " 27,\n",
       " 7239,\n",
       " 476,\n",
       " 6,\n",
       " 832,\n",
       " 95,\n",
       " 1136,\n",
       " 17,\n",
       " 12]"
      ]
     },
     "execution_count": 24,
     "metadata": {},
     "output_type": "execute_result"
    }
   ],
   "source": [
    "train_data[13]"
   ]
  },
  {
   "cell_type": "markdown",
   "metadata": {},
   "source": [
    "Here's how you can decode it back to words, in case you are curious:"
   ]
  },
  {
   "cell_type": "code",
   "execution_count": 25,
   "metadata": {},
   "outputs": [],
   "source": [
    "word_index = reuters.get_word_index()\n",
    "reverse_word_index = dict([(value, key) for (key, value) in word_index.items()])\n",
    "# Note that our indices were offset by 3\n",
    "# because 0, 1 and 2 are reserved indices for \"padding\", \"start of sequence\", and \"unknown\".\n",
    "decoded_newswire = ' '.join([reverse_word_index.get(i - 3, '?') for i in train_data[1400]])"
   ]
  },
  {
   "cell_type": "code",
   "execution_count": 26,
   "metadata": {},
   "outputs": [
    {
     "data": {
      "text/plain": [
       "\"? the reagan administration continues to debate whether to offer subsidized wheat to the soviet union but would need assurances from the soviets that they would buy the wheat before the subsidy offer would be made a senior u s agriculture department official said i think it still is under active debate whether or not it would be ? to make an the export enhancement offer to the soviets thomas kay administrator of the department's foreign agriculture service told reuters we'd need some assurances from them the soviets that they would buy if offered the wheat under the subsidy plan he said kay called reports that such an offer was imminent premature the reagan administration's cabinet level economic policy council is set to meet today to discuss among other matters agricultural policy but is not expected to address a wheat subsidy offer to the soviet union administration officials said earlier reuter 3\""
      ]
     },
     "execution_count": 26,
     "metadata": {},
     "output_type": "execute_result"
    }
   ],
   "source": [
    "decoded_newswire"
   ]
  },
  {
   "cell_type": "markdown",
   "metadata": {},
   "source": [
    "The label associated with an example is an integer between 0 and 45: a topic index."
   ]
  },
  {
   "cell_type": "code",
   "execution_count": 27,
   "metadata": {},
   "outputs": [
    {
     "data": {
      "text/plain": [
       "3"
      ]
     },
     "execution_count": 27,
     "metadata": {},
     "output_type": "execute_result"
    }
   ],
   "source": [
    "train_labels[10]"
   ]
  },
  {
   "cell_type": "markdown",
   "metadata": {},
   "source": [
    "## Preparing the data\n",
    "\n",
    "We can vectorize the data with the exact same code as in our previous example:"
   ]
  },
  {
   "cell_type": "code",
   "execution_count": 28,
   "metadata": {},
   "outputs": [],
   "source": [
    "import numpy as np\n",
    "\n",
    "def vectorize_sequences(sequences, dimension=10000):\n",
    "    results = np.zeros((len(sequences), dimension))\n",
    "    for i, sequence in enumerate(sequences):\n",
    "        results[i, sequence] = 1.\n",
    "    return results\n",
    "\n",
    "# Our vectorized training data\n",
    "x_train = vectorize_sequences(train_data)\n",
    "# Our vectorized test data\n",
    "x_test = vectorize_sequences(test_data)"
   ]
  },
  {
   "cell_type": "markdown",
   "metadata": {},
   "source": [
    "\n",
    "To vectorize the labels, there are two possibilities: we could just cast the label list as an integer tensor, or we could use a \"one-hot\" \n",
    "encoding. One-hot encoding is a widely used format for categorical data, also called \"categorical encoding\". \n",
    "For a more detailed explanation of one-hot encoding, you can refer to Chapter 6, Section 1. \n",
    "In our case, one-hot encoding of our labels consists in embedding each label as an all-zero vector with a 1 in the place of the label index, e.g.:"
   ]
  },
  {
   "cell_type": "code",
   "execution_count": 10,
   "metadata": {
    "collapsed": true
   },
   "outputs": [],
   "source": [
    "def to_one_hot(labels, dimension=46):\n",
    "    results = np.zeros((len(labels), dimension))\n",
    "    for i, label in enumerate(labels):\n",
    "        results[i, label] = 1.\n",
    "    return results\n",
    "\n",
    "# Our vectorized training labels\n",
    "one_hot_train_labels = to_one_hot(train_labels)\n",
    "# Our vectorized test labels\n",
    "one_hot_test_labels = to_one_hot(test_labels)"
   ]
  },
  {
   "cell_type": "markdown",
   "metadata": {},
   "source": [
    "Note that there is a built-in way to do this in Keras, which you have already seen in action in our MNIST example:"
   ]
  },
  {
   "cell_type": "code",
   "execution_count": 30,
   "metadata": {},
   "outputs": [],
   "source": [
    "\n",
    "\n",
    "one_hot_train_labels = keras.utils.to_categorical(train_labels)\n",
    "one_hot_test_labels = keras.utils.to_categorical(test_labels)"
   ]
  },
  {
   "cell_type": "markdown",
   "metadata": {},
   "source": [
    "## Building our network\n",
    "\n",
    "\n",
    "This topic classification problem looks very similar to our previous movie review classification problem: in both cases, we are trying to \n",
    "classify short snippets of text. There is however a new constraint here: the number of output classes has gone from 2 to 46, i.e. the \n",
    "dimensionality of the output space is much larger. \n",
    "\n",
    "In a stack of `Dense` layers like what we were using, each layer can only access information present in the output of the previous layer. \n",
    "If one layer drops some information relevant to the classification problem, this information can never be recovered by later layers: each \n",
    "layer can potentially become an \"information bottleneck\". In our previous example, we were using 16-dimensional intermediate layers, but a \n",
    "16-dimensional space may be too limited to learn to separate 46 different classes: such small layers may act as information bottlenecks, \n",
    "permanently dropping relevant information.\n",
    "\n",
    "For this reason we will use larger layers. Let's go with 64 units:"
   ]
  },
  {
   "cell_type": "code",
   "execution_count": 33,
   "metadata": {},
   "outputs": [
    {
     "name": "stdout",
     "output_type": "stream",
     "text": [
      "[10000, 64]\n",
      "-0.02441688800223795\n",
      "0.02441688800223795\n",
      "0\n",
      "[64, 64]\n",
      "-0.21650635094610965\n",
      "0.21650635094610965\n",
      "0\n",
      "[64, 46]\n",
      "-0.23354968324845687\n",
      "0.23354968324845687\n",
      "0\n"
     ]
    }
   ],
   "source": [
    "model = keras.Sequential()\n",
    "model.add(keras.layers.Dense(64, activation='relu', input_shape=(10000,)))\n",
    "model.add(keras.layers.Dense(64, activation='relu'))\n",
    "model.add(keras.layers.Dense(46, activation='softmax'))"
   ]
  },
  {
   "cell_type": "markdown",
   "metadata": {},
   "source": [
    "\n",
    "There are two other things you should note about this architecture:\n",
    "\n",
    "* We are ending the network with a `Dense` layer of size 46. This means that for each input sample, our network will output a \n",
    "46-dimensional vector. Each entry in this vector (each dimension) will encode a different output class.\n",
    "* The last layer uses a `softmax` activation. You have already seen this pattern in the MNIST example. It means that the network will \n",
    "output a _probability distribution_ over the 46 different output classes, i.e. for every input sample, the network will produce a \n",
    "46-dimensional output vector where `output[i]` is the probability that the sample belongs to class `i`. The 46 scores will sum to 1.\n",
    "\n",
    "The best loss function to use in this case is `categorical_crossentropy`. It measures the distance between two probability distributions: \n",
    "in our case, between the probability distribution output by our network, and the true distribution of the labels. By minimizing the \n",
    "distance between these two distributions, we train our network to output something as close as possible to the true labels."
   ]
  },
  {
   "cell_type": "code",
   "execution_count": 34,
   "metadata": {},
   "outputs": [
    {
     "name": "stdout",
     "output_type": "stream",
     "text": [
      "0.001\n",
      "0.9\n",
      "0.0\n",
      "0\n",
      "[1.0]\n",
      "1\n",
      "1e-07\n",
      "1.0\n",
      "1\n",
      "[]\n",
      "0\n",
      "1.0\n",
      "-1\n",
      "-1\n"
     ]
    }
   ],
   "source": [
    "model.compile(optimizer='rmsprop',\n",
    "              loss='categorical_crossentropy',\n",
    "              metrics=['accuracy'])"
   ]
  },
  {
   "cell_type": "markdown",
   "metadata": {},
   "source": [
    "## Validating our approach\n",
    "\n",
    "Let's set apart 1,000 samples in our training data to use as a validation set:"
   ]
  },
  {
   "cell_type": "code",
   "execution_count": 39,
   "metadata": {},
   "outputs": [],
   "source": [
    "x_val = x_train[:1000]\n",
    "partial_x_train = x_train[1000:]\n",
    "\n",
    "y_val = one_hot_train_labels[:1000]\n",
    "partial_y_train = one_hot_train_labels[1000:]"
   ]
  },
  {
   "cell_type": "markdown",
   "metadata": {},
   "source": [
    "Now let's train our network for 20 epochs:"
   ]
  },
  {
   "cell_type": "code",
   "execution_count": 40,
   "metadata": {},
   "outputs": [
    {
     "name": "stdout",
     "output_type": "stream",
     "text": [
      "Train on 7982 samples, validate on 1000 samples\n",
      "Epoch 1/20\n",
      "7982/7982 [==============================] - 1s 75us/step - loss: 0.1101 - acc: 0.9572 - val_loss: 1.1006 - val_acc: 0.7930\n",
      "Epoch 2/20\n",
      "7982/7982 [==============================] - 1s 74us/step - loss: 0.1041 - acc: 0.9578 - val_loss: 1.1330 - val_acc: 0.7980\n",
      "Epoch 3/20\n",
      "7982/7982 [==============================] - 1s 74us/step - loss: 0.1046 - acc: 0.9588 - val_loss: 1.1145 - val_acc: 0.8010\n",
      "Epoch 4/20\n",
      "7982/7982 [==============================] - 1s 74us/step - loss: 0.1067 - acc: 0.9578 - val_loss: 1.1282 - val_acc: 0.7900\n",
      "Epoch 5/20\n",
      "7982/7982 [==============================] - 1s 74us/step - loss: 0.1000 - acc: 0.9585 - val_loss: 1.1225 - val_acc: 0.7950\n",
      "Epoch 6/20\n",
      "7982/7982 [==============================] - 1s 73us/step - loss: 0.1008 - acc: 0.9564 - val_loss: 1.1907 - val_acc: 0.7850\n",
      "Epoch 7/20\n",
      "7982/7982 [==============================] - 1s 74us/step - loss: 0.0998 - acc: 0.9580 - val_loss: 1.1358 - val_acc: 0.7990\n",
      "Epoch 8/20\n",
      "7982/7982 [==============================] - 1s 74us/step - loss: 0.0942 - acc: 0.9593 - val_loss: 1.2274 - val_acc: 0.7850\n",
      "Epoch 9/20\n",
      "7982/7982 [==============================] - 1s 74us/step - loss: 0.0982 - acc: 0.9582 - val_loss: 1.1766 - val_acc: 0.7980\n",
      "Epoch 10/20\n",
      "7982/7982 [==============================] - 1s 74us/step - loss: 0.0934 - acc: 0.9585 - val_loss: 1.2661 - val_acc: 0.7830\n",
      "Epoch 11/20\n",
      "7982/7982 [==============================] - 1s 74us/step - loss: 0.0941 - acc: 0.9582 - val_loss: 1.1894 - val_acc: 0.7990\n",
      "Epoch 12/20\n",
      "7982/7982 [==============================] - 1s 73us/step - loss: 0.0921 - acc: 0.9582 - val_loss: 1.2090 - val_acc: 0.7910\n",
      "Epoch 13/20\n",
      "7982/7982 [==============================] - 1s 74us/step - loss: 0.0913 - acc: 0.9579 - val_loss: 1.2253 - val_acc: 0.7950\n",
      "Epoch 14/20\n",
      "7982/7982 [==============================] - 1s 74us/step - loss: 0.0919 - acc: 0.9599 - val_loss: 1.2746 - val_acc: 0.7910\n",
      "Epoch 15/20\n",
      "7982/7982 [==============================] - 1s 74us/step - loss: 0.0908 - acc: 0.9592 - val_loss: 1.2466 - val_acc: 0.7850\n",
      "Epoch 16/20\n",
      "7982/7982 [==============================] - 1s 73us/step - loss: 0.0911 - acc: 0.9584 - val_loss: 1.1898 - val_acc: 0.8000\n",
      "Epoch 17/20\n",
      "7982/7982 [==============================] - 1s 73us/step - loss: 0.0890 - acc: 0.9593 - val_loss: 1.2344 - val_acc: 0.7930\n",
      "Epoch 18/20\n",
      "7982/7982 [==============================] - 1s 75us/step - loss: 0.0886 - acc: 0.9593 - val_loss: 1.2154 - val_acc: 0.7900\n",
      "Epoch 19/20\n",
      "7982/7982 [==============================] - 1s 75us/step - loss: 0.0887 - acc: 0.9582 - val_loss: 1.2288 - val_acc: 0.7890\n",
      "Epoch 20/20\n",
      "7982/7982 [==============================] - 1s 74us/step - loss: 0.0862 - acc: 0.9577 - val_loss: 1.2705 - val_acc: 0.7810\n"
     ]
    }
   ],
   "source": [
    "history = model.fit(partial_x_train,\n",
    "                    partial_y_train,\n",
    "                    epochs=20,\n",
    "                    batch_size=512,\n",
    "                    validation_data=(x_val, y_val))"
   ]
  },
  {
   "cell_type": "markdown",
   "metadata": {},
   "source": [
    "Let's display its loss and accuracy curves:"
   ]
  },
  {
   "cell_type": "code",
   "execution_count": 41,
   "metadata": {},
   "outputs": [
    {
     "data": {
      "text/plain": [
       "<Figure size 640x480 with 1 Axes>"
      ]
     },
     "metadata": {},
     "output_type": "display_data"
    }
   ],
   "source": [
    "import matplotlib.pyplot as plt\n",
    "\n",
    "loss = history.history['loss']\n",
    "val_loss = history.history['val_loss']\n",
    "\n",
    "epochs = range(1, len(loss) + 1)\n",
    "\n",
    "plt.plot(epochs, loss, 'bo', label='Training loss')\n",
    "plt.plot(epochs, val_loss, 'b', label='Validation loss')\n",
    "plt.title('Training and validation loss')\n",
    "plt.xlabel('Epochs')\n",
    "plt.ylabel('Loss')\n",
    "plt.legend()\n",
    "\n",
    "plt.show()"
   ]
  },
  {
   "cell_type": "code",
   "execution_count": 42,
   "metadata": {},
   "outputs": [
    {
     "data": {
      "image/png": "[encoded data removed]",
      "text/plain": [
       "<Figure size 432x288 with 1 Axes>"
      ]
     },
     "metadata": {},
     "output_type": "display_data"
    }
   ],
   "source": [
    "plt.clf()   # clear figure\n",
    "\n",
    "acc = history.history['acc']\n",
    "val_acc = history.history['val_acc']\n",
    "\n",
    "plt.plot(epochs, acc, 'bo', label='Training acc')\n",
    "plt.plot(epochs, val_acc, 'b', label='Validation acc')\n",
    "plt.title('Training and validation accuracy')\n",
    "plt.xlabel('Epochs')\n",
    "plt.ylabel('Loss')\n",
    "plt.legend()\n",
    "\n",
    "plt.show()"
   ]
  },
  {
   "cell_type": "markdown",
   "metadata": {},
   "source": [
    "It seems that the network starts overfitting after 8 epochs. Let's train a new network from scratch for 8 epochs, then let's evaluate it on \n",
    "the test set:"
   ]
  },
  {
   "cell_type": "code",
   "execution_count": 43,
   "metadata": {},
   "outputs": [
    {
     "name": "stdout",
     "output_type": "stream",
     "text": [
      "[10000, 64]\n",
      "-0.02441688800223795\n",
      "0.02441688800223795\n",
      "0\n",
      "[64, 64]\n",
      "-0.21650635094610965\n",
      "0.21650635094610965\n",
      "0\n",
      "[64, 46]\n",
      "-0.23354968324845687\n",
      "0.23354968324845687\n",
      "0\n",
      "0.001\n",
      "0.9\n",
      "0.0\n",
      "0\n",
      "[1.0]\n",
      "1\n",
      "1e-07\n",
      "1.0\n",
      "1\n",
      "[]\n",
      "0\n",
      "1.0\n",
      "-1\n",
      "-1\n",
      "[]\n",
      "1\n",
      "[1]\n",
      "[]\n",
      "1\n",
      "[]\n",
      "1\n",
      "[0]\n",
      "0\n",
      "1\n",
      "1\n",
      "1\n",
      "1\n",
      "2\n",
      "[]\n",
      "0\n",
      "1\n",
      "1\n",
      "1\n",
      "[]\n",
      "0\n",
      "[]\n",
      "0\n",
      "2\n",
      "[]\n",
      "0\n",
      "1\n",
      "1\n",
      "1\n",
      "[1]\n",
      "[-1, 1]\n",
      "[10000, 64]\n",
      "0\n",
      "0\n",
      "[64, 64]\n",
      "0\n",
      "0\n",
      "[64, 46]\n",
      "0\n",
      "0\n",
      "1\n",
      "1.0\n",
      "0.0\n",
      "inf\n",
      "1e-07\n",
      "1.0\n",
      "0.0\n",
      "inf\n",
      "1e-07\n",
      "1.0\n",
      "0.0\n",
      "inf\n",
      "1e-07\n",
      "1.0\n",
      "0.0\n",
      "inf\n",
      "1e-07\n",
      "1.0\n",
      "0.0\n",
      "inf\n",
      "1e-07\n",
      "1.0\n",
      "0.0\n",
      "inf\n",
      "1e-07\n",
      "Train on 7982 samples, validate on 1000 samples\n",
      "Epoch 1/8\n",
      "7982/7982 [==============================] - 1s 93us/step - loss: 2.5487 - acc: 0.5336 - val_loss: 1.6838 - val_acc: 0.6510\n",
      "Epoch 2/8\n",
      "7982/7982 [==============================] - 1s 66us/step - loss: 1.3742 - acc: 0.7112 - val_loss: 1.2790 - val_acc: 0.7210\n",
      "Epoch 3/8\n",
      "7982/7982 [==============================] - 1s 66us/step - loss: 1.0235 - acc: 0.7809 - val_loss: 1.1192 - val_acc: 0.7630\n",
      "Epoch 4/8\n",
      "7982/7982 [==============================] - 1s 66us/step - loss: 0.8051 - acc: 0.8295 - val_loss: 1.0184 - val_acc: 0.7860\n",
      "Epoch 5/8\n",
      "7982/7982 [==============================] - 1s 67us/step - loss: 0.6424 - acc: 0.8638 - val_loss: 0.9483 - val_acc: 0.7960\n",
      "Epoch 6/8\n",
      "7982/7982 [==============================] - 1s 67us/step - loss: 0.5121 - acc: 0.8949 - val_loss: 0.9189 - val_acc: 0.8030\n",
      "Epoch 7/8\n",
      "7982/7982 [==============================] - 1s 67us/step - loss: 0.4147 - acc: 0.9138 - val_loss: 0.8965 - val_acc: 0.8140\n",
      "Epoch 8/8\n",
      "7982/7982 [==============================] - 1s 68us/step - loss: 0.3383 - acc: 0.9288 - val_loss: 0.8745 - val_acc: 0.8240\n",
      "2246/2246 [==============================] - 0s 84us/step\n"
     ]
    }
   ],
   "source": [
    "model = keras.Sequential()\n",
    "model.add(keras.layers.Dense(64, activation='relu', input_shape=(10000,)))\n",
    "model.add(keras.layers.Dense(64, activation='relu'))\n",
    "model.add(keras.layers.Dense(46, activation='softmax'))\n",
    "\n",
    "model.compile(optimizer='rmsprop',\n",
    "              loss='categorical_crossentropy',\n",
    "              metrics=['accuracy'])\n",
    "model.fit(partial_x_train,\n",
    "          partial_y_train,\n",
    "          epochs=8,\n",
    "          batch_size=512,\n",
    "          validation_data=(x_val, y_val))\n",
    "results = model.evaluate(x_test, one_hot_test_labels)"
   ]
  },
  {
   "cell_type": "code",
   "execution_count": 44,
   "metadata": {},
   "outputs": [
    {
     "data": {
      "text/plain": [
       "[0.9626031739310504, 0.7947462155472882]"
      ]
     },
     "execution_count": 44,
     "metadata": {},
     "output_type": "execute_result"
    }
   ],
   "source": [
    "results"
   ]
  },
  {
   "cell_type": "markdown",
   "metadata": {},
   "source": [
    "\n",
    "Our approach reaches an accuracy of ~78%. With a balanced binary classification problem, the accuracy reached by a purely random classifier \n",
    "would be 50%, but in our case it is closer to 19%, so our results seem pretty good, at least when compared to a random baseline:"
   ]
  },
  {
   "cell_type": "code",
   "execution_count": 45,
   "metadata": {},
   "outputs": [
    {
     "data": {
      "text/plain": [
       "0.18210151380231523"
      ]
     },
     "execution_count": 45,
     "metadata": {},
     "output_type": "execute_result"
    }
   ],
   "source": [
    "import copy\n",
    "\n",
    "test_labels_copy = copy.copy(test_labels)\n",
    "np.random.shuffle(test_labels_copy)\n",
    "float(np.sum(np.array(test_labels) == np.array(test_labels_copy))) / len(test_labels)"
   ]
  },
  {
   "cell_type": "markdown",
   "metadata": {},
   "source": [
    "## Generating predictions on new data\n",
    "\n",
    "We can verify that the `predict` method of our model instance returns a probability distribution over all 46 topics. Let's generate topic \n",
    "predictions for all of the test data:"
   ]
  },
  {
   "cell_type": "code",
   "execution_count": 46,
   "metadata": {},
   "outputs": [],
   "source": [
    "predictions = model.predict(x_test)"
   ]
  },
  {
   "cell_type": "markdown",
   "metadata": {},
   "source": [
    "Each entry in `predictions` is a vector of length 46:"
   ]
  },
  {
   "cell_type": "code",
   "execution_count": 47,
   "metadata": {},
   "outputs": [
    {
     "data": {
      "text/plain": [
       "(46,)"
      ]
     },
     "execution_count": 47,
     "metadata": {},
     "output_type": "execute_result"
    }
   ],
   "source": [
    "predictions[0].shape"
   ]
  },
  {
   "cell_type": "markdown",
   "metadata": {},
   "source": [
    "The coefficients in this vector sum to 1:"
   ]
  },
  {
   "cell_type": "code",
   "execution_count": 48,
   "metadata": {},
   "outputs": [
    {
     "data": {
      "text/plain": [
       "0.99999994"
      ]
     },
     "execution_count": 48,
     "metadata": {},
     "output_type": "execute_result"
    }
   ],
   "source": [
    "np.sum(predictions[0])"
   ]
  },
  {
   "cell_type": "markdown",
   "metadata": {},
   "source": [
    "The largest entry is the predicted class, i.e. the class with the highest probability:"
   ]
  },
  {
   "cell_type": "code",
   "execution_count": 49,
   "metadata": {},
   "outputs": [
    {
     "data": {
      "text/plain": [
       "3"
      ]
     },
     "execution_count": 49,
     "metadata": {},
     "output_type": "execute_result"
    }
   ],
   "source": [
    "np.argmax(predictions[0])"
   ]
  },
  {
   "cell_type": "markdown",
   "metadata": {},
   "source": [
    "## A different way to handle the labels and the loss\n",
    "\n",
    "We mentioned earlier that another way to encode the labels would be to cast them as an integer tensor, like such:"
   ]
  },
  {
   "cell_type": "code",
   "execution_count": 50,
   "metadata": {},
   "outputs": [],
   "source": [
    "y_train = np.array(train_labels)\n",
    "y_test = np.array(test_labels)"
   ]
  },
  {
   "cell_type": "markdown",
   "metadata": {},
   "source": [
    "\n",
    "The only thing it would change is the choice of the loss function. Our previous loss, `categorical_crossentropy`, expects the labels to \n",
    "follow a categorical encoding. With integer labels, we should use `sparse_categorical_crossentropy`:"
   ]
  },
  {
   "cell_type": "code",
   "execution_count": 51,
   "metadata": {},
   "outputs": [
    {
     "name": "stdout",
     "output_type": "stream",
     "text": [
      "0.001\n",
      "0.9\n",
      "0.0\n",
      "0\n",
      "[1.0]\n",
      "1e-07\n",
      "1\n",
      "[-1]\n",
      "[-1, 46]\n",
      "[]\n",
      "0\n",
      "1.0\n",
      "-1\n",
      "-1\n"
     ]
    }
   ],
   "source": [
    "model.compile(optimizer='rmsprop', loss='sparse_categorical_crossentropy', metrics=['acc'])"
   ]
  },
  {
   "cell_type": "markdown",
   "metadata": {},
   "source": [
    "This new loss function is still mathematically the same as `categorical_crossentropy`; it just has a different interface."
   ]
  },
  {
   "cell_type": "markdown",
   "metadata": {},
   "source": [
    "## On the importance of having sufficiently large intermediate layers\n",
    "\n",
    "\n",
    "We mentioned earlier that since our final outputs were 46-dimensional, we should avoid intermediate layers with much less than 46 hidden \n",
    "units. Now let's try to see what happens when we introduce an information bottleneck by having intermediate layers significantly less than \n",
    "46-dimensional, e.g. 4-dimensional."
   ]
  },
  {
   "cell_type": "code",
   "execution_count": 53,
   "metadata": {},
   "outputs": [
    {
     "name": "stdout",
     "output_type": "stream",
     "text": [
      "[10000, 64]\n",
      "-0.02441688800223795\n",
      "0.02441688800223795\n",
      "0\n",
      "[64, 4]\n",
      "-0.2970442628930023\n",
      "0.2970442628930023\n",
      "0\n",
      "[4, 46]\n",
      "-0.34641016151377546\n",
      "0.34641016151377546\n",
      "0\n",
      "0.001\n",
      "0.9\n",
      "0.0\n",
      "0\n",
      "[1.0]\n",
      "1\n",
      "1e-07\n",
      "1.0\n",
      "1\n",
      "[]\n",
      "0\n",
      "1.0\n",
      "-1\n",
      "-1\n",
      "[]\n",
      "1\n",
      "[1]\n",
      "[]\n",
      "1\n",
      "[]\n",
      "1\n",
      "[0]\n",
      "0\n",
      "1\n",
      "1\n",
      "1\n",
      "1\n",
      "2\n",
      "[]\n",
      "0\n",
      "1\n",
      "1\n",
      "1\n",
      "[]\n",
      "0\n",
      "[]\n",
      "0\n",
      "2\n",
      "[]\n",
      "0\n",
      "1\n",
      "1\n",
      "1\n",
      "[1]\n",
      "[-1, 1]\n",
      "[10000, 64]\n",
      "0\n",
      "0\n",
      "0\n",
      "0\n",
      "0\n",
      "0\n",
      "1\n",
      "1.0\n",
      "0.0\n",
      "inf\n",
      "1e-07\n",
      "1.0\n",
      "0.0\n",
      "inf\n",
      "1e-07\n",
      "1.0\n",
      "0.0\n",
      "inf\n",
      "1e-07\n",
      "1.0\n",
      "0.0\n",
      "inf\n",
      "1e-07\n",
      "1.0\n",
      "0.0\n",
      "inf\n",
      "1e-07\n",
      "1.0\n",
      "0.0\n",
      "inf\n",
      "1e-07\n",
      "Train on 7982 samples, validate on 1000 samples\n",
      "Epoch 1/20\n",
      "7982/7982 [==============================] - 1s 124us/step - loss: 3.2059 - acc: 0.1660 - val_loss: 2.6092 - val_acc: 0.4090\n",
      "Epoch 2/20\n",
      "7982/7982 [==============================] - 1s 77us/step - loss: 2.1610 - acc: 0.4382 - val_loss: 1.9193 - val_acc: 0.5510\n",
      "Epoch 3/20\n",
      "7982/7982 [==============================] - 1s 79us/step - loss: 1.5981 - acc: 0.6149 - val_loss: 1.5357 - val_acc: 0.6220\n",
      "Epoch 4/20\n",
      "7982/7982 [==============================] - 1s 79us/step - loss: 1.3530 - acc: 0.6526 - val_loss: 1.4528 - val_acc: 0.6230\n",
      "Epoch 5/20\n",
      "7982/7982 [==============================] - 1s 80us/step - loss: 1.2339 - acc: 0.6699 - val_loss: 1.4106 - val_acc: 0.6430\n",
      "Epoch 6/20\n",
      "7982/7982 [==============================] - 1s 79us/step - loss: 1.1406 - acc: 0.6859 - val_loss: 1.3901 - val_acc: 0.6430\n",
      "Epoch 7/20\n",
      "7982/7982 [==============================] - 1s 79us/step - loss: 1.0340 - acc: 0.7160 - val_loss: 1.3611 - val_acc: 0.6810\n",
      "Epoch 8/20\n",
      "7982/7982 [==============================] - 1s 79us/step - loss: 0.9386 - acc: 0.7474 - val_loss: 1.3681 - val_acc: 0.6910\n",
      "Epoch 9/20\n",
      "7982/7982 [==============================] - 1s 79us/step - loss: 0.8552 - acc: 0.7806 - val_loss: 1.3541 - val_acc: 0.7130\n",
      "Epoch 10/20\n",
      "7982/7982 [==============================] - 1s 79us/step - loss: 0.7825 - acc: 0.7957 - val_loss: 1.3474 - val_acc: 0.7100\n",
      "Epoch 11/20\n",
      "7982/7982 [==============================] - 1s 79us/step - loss: 0.7231 - acc: 0.8067 - val_loss: 1.4097 - val_acc: 0.7100\n",
      "Epoch 12/20\n",
      "7982/7982 [==============================] - 1s 79us/step - loss: 0.6721 - acc: 0.8227 - val_loss: 1.4230 - val_acc: 0.7170\n",
      "Epoch 13/20\n",
      "7982/7982 [==============================] - 1s 78us/step - loss: 0.6296 - acc: 0.8334 - val_loss: 1.4295 - val_acc: 0.7170\n",
      "Epoch 14/20\n",
      "7982/7982 [==============================] - 1s 78us/step - loss: 0.5886 - acc: 0.8478 - val_loss: 1.4946 - val_acc: 0.7200\n",
      "Epoch 15/20\n",
      "7982/7982 [==============================] - 1s 79us/step - loss: 0.5553 - acc: 0.8583 - val_loss: 1.5180 - val_acc: 0.7200\n",
      "Epoch 16/20\n",
      "7982/7982 [==============================] - 1s 78us/step - loss: 0.5216 - acc: 0.8675 - val_loss: 1.5726 - val_acc: 0.7170\n",
      "Epoch 17/20\n",
      "7982/7982 [==============================] - 1s 78us/step - loss: 0.4927 - acc: 0.8768 - val_loss: 1.6042 - val_acc: 0.7180\n",
      "Epoch 18/20\n",
      "7982/7982 [==============================] - 1s 78us/step - loss: 0.4697 - acc: 0.8827 - val_loss: 1.6211 - val_acc: 0.7160\n",
      "Epoch 19/20\n",
      "7982/7982 [==============================] - 1s 79us/step - loss: 0.4470 - acc: 0.8871 - val_loss: 1.6877 - val_acc: 0.7180\n",
      "Epoch 20/20\n",
      "7982/7982 [==============================] - 1s 78us/step - loss: 0.4274 - acc: 0.8920 - val_loss: 1.7495 - val_acc: 0.7120\n"
     ]
    },
    {
     "data": {
      "text/plain": [
       "<tensorflow.python.keras.callbacks.History at 0x126162a58>"
      ]
     },
     "execution_count": 53,
     "metadata": {},
     "output_type": "execute_result"
    }
   ],
   "source": [
    "model = keras.Sequential()\n",
    "model.add(keras.layers.Dense(64, activation='relu', input_shape=(10000,)))\n",
    "model.add(keras.layers.Dense(4, activation='relu'))\n",
    "model.add(keras.layers.Dense(46, activation='softmax'))\n",
    "\n",
    "model.compile(optimizer='rmsprop',\n",
    "              loss='categorical_crossentropy',\n",
    "              metrics=['accuracy'])\n",
    "model.fit(partial_x_train,\n",
    "          partial_y_train,\n",
    "          epochs=20,\n",
    "          batch_size=128,\n",
    "          validation_data=(x_val, y_val))"
   ]
  },
  {
   "cell_type": "markdown",
   "metadata": {},
   "source": [
    "\n",
    "Our network now seems to peak at ~71% test accuracy, a 8% absolute drop. This drop is mostly due to the fact that we are now trying to \n",
    "compress a lot of information (enough information to recover the separation hyperplanes of 46 classes) into an intermediate space that is \n",
    "too low-dimensional. The network is able to cram _most_ of the necessary information into these 8-dimensional representations, but not all \n",
    "of it."
   ]
  },
  {
   "cell_type": "markdown",
   "metadata": {},
   "source": [
    "## Further experiments\n",
    "\n",
    "* Try using larger or smaller layers: 32 units, 128 units...\n",
    "* We were using two hidden layers. Now try to use a single hidden layer, or three hidden layers."
   ]
  },
  {
   "cell_type": "markdown",
   "metadata": {},
   "source": [
    "## Wrapping up\n",
    "\n",
    "\n",
    "Here's what you should take away from this example:\n",
    "\n",
    "* If you are trying to classify data points between N classes, your network should end with a `Dense` layer of size N.\n",
    "* In a single-label, multi-class classification problem, your network should end with a `softmax` activation, so that it will output a \n",
    "probability distribution over the N output classes.\n",
    "* _Categorical crossentropy_ is almost always the loss function you should use for such problems. It minimizes the distance between the \n",
    "probability distributions output by the network, and the true distribution of the targets.\n",
    "* There are two ways to handle labels in multi-class classification:\n",
    "    ** Encoding the labels via \"categorical encoding\" (also known as \"one-hot encoding\") and using `categorical_crossentropy` as your loss \n",
    "function.\n",
    "    ** Encoding the labels as integers and using the `sparse_categorical_crossentropy` loss function.\n",
    "* If you need to classify data into a large number of categories, then you should avoid creating information bottlenecks in your network by having \n",
    "intermediate layers that are too small."
   ]
  }
 ],
 "metadata": {
  "kernelspec": {
   "display_name": "Python 3",
   "language": "python",
   "name": "python3"
  },
  "language_info": {
   "codemirror_mode": {
    "name": "ipython",
    "version": 3
   },
   "file_extension": ".py",
   "mimetype": "text/x-python",
   "name": "python",
   "nbconvert_exporter": "python",
   "pygments_lexer": "ipython3",
   "version": "3.6.5"
  }
 },
 "nbformat": 4,
 "nbformat_minor": 2
}
